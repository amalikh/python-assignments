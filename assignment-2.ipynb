{
 "cells": [
  {
   "cell_type": "code",
   "execution_count": 3,
   "id": "b75e7c60",
   "metadata": {},
   "outputs": [
    {
     "name": "stdout",
     "output_type": "stream",
     "text": [
      "Enter English marks: 34\n",
      "Enter Islamiat marks: 65\n",
      "Enter Maths marks: 98\n",
      "Grade B\n"
     ]
    }
   ],
   "source": [
    "eng = int(input(\"Enter English marks: \"))\n",
    "isl = int(input(\"Enter Islamiat marks: \"))\n",
    "math = int(input(\"Enter Maths marks: \"))\n",
    "obtainedMarks = eng+isl+math\n",
    "total = 300\n",
    "percent = (obtainedMarks/total)*100\n",
    "if percent < 100 and percent >= 80:\n",
    "    print(\"Grade A+\");\n",
    "elif percent < 80 and percent >= 70:\n",
    "    print(\"Grade A\");\n",
    "elif percent < 70 and percent >= 60:\n",
    "    print(\"Grade B\")\n",
    "elif percent < 60 and percent >= 50:\n",
    "    print(\"Grade C\")\n",
    "elif percent < 50 and percent >= 40:\n",
    "    print(\"Grade D\")\n",
    "else:\n",
    "    print(\"Fail\")"
   ]
  },
  {
   "cell_type": "code",
   "execution_count": null,
   "id": "5fdfbd10",
   "metadata": {},
   "outputs": [],
   "source": []
  }
 ],
 "metadata": {
  "kernelspec": {
   "display_name": "Python 3",
   "language": "python",
   "name": "python3"
  },
  "language_info": {
   "codemirror_mode": {
    "name": "ipython",
    "version": 3
   },
   "file_extension": ".py",
   "mimetype": "text/x-python",
   "name": "python",
   "nbconvert_exporter": "python",
   "pygments_lexer": "ipython3",
   "version": "3.8.8"
  }
 },
 "nbformat": 4,
 "nbformat_minor": 5
}
