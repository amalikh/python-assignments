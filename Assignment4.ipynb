{
 "cells": [
  {
   "cell_type": "code",
   "execution_count": 20,
   "id": "59aa1444",
   "metadata": {},
   "outputs": [
    {
     "name": "stdout",
     "output_type": "stream",
     "text": [
      "Enter num1: 2\n",
      "Enter operator: /\n",
      "Enter num2: 1\n",
      "2 / 1  =  2.0\n"
     ]
    }
   ],
   "source": [
    "# 1. Make a calculator using Python with addition , subtraction , multiplication ,division and power.\n",
    "\n",
    "num1 = int(input(\"Enter num1: \"))\n",
    "opr = (input(\"Enter operator: \"))\n",
    "num2 = int(input(\"Enter num2: \"))\n",
    "\n",
    "if opr == \"+\":\n",
    "    result = num1+num2\n",
    "    print(num1,opr,num2,\" = \",result)\n",
    "elif opr == \"-\":\n",
    "    result = num1-num2\n",
    "    print(num1,opr,num2,\" = \",result)\n",
    "elif opr == \"*\":\n",
    "    result = num1*num2\n",
    "    print(num1,opr,num2,\" = \",result)\n",
    "elif opr == \"/\":\n",
    "    result = num1/num2\n",
    "    print(num1,opr,num2,\" = \",result)\n",
    "else:\n",
    "    print(\"invalid operators. only use [+,-,*,/]\")"
   ]
  },
  {
   "cell_type": "code",
   "execution_count": 27,
   "id": "dfc25d70",
   "metadata": {},
   "outputs": [
    {
     "name": "stdout",
     "output_type": "stream",
     "text": [
      "[23, 4, 2, 5]\n"
     ]
    }
   ],
   "source": [
    "#  2. Write a program to check if there is any numeric value in list using for loop.\n",
    "\n",
    "mixed_list = [\"python\", 23, 4, \"java\",2,5,\"c#\"] \n",
    "numeric_list = []\n",
    "for x in mixed_list: \n",
    "    if type(x) == int: \n",
    "        numeric_list.append(x)\n",
    "print(numeric_list)"
   ]
  },
  {
   "cell_type": "raw",
   "id": "c98641e7",
   "metadata": {},
   "source": [
    "#  3. Write a Python script to add a key to a dictionary.\n",
    "\n",
    "my_dictionary = {1: 1, 2: 4, 3: 9}\n",
    "my_dictionary[4] = 16 \n",
    "print(my_dictionary)"
   ]
  },
  {
   "cell_type": "code",
   "execution_count": 38,
   "id": "fbed99ec",
   "metadata": {},
   "outputs": [
    {
     "name": "stdout",
     "output_type": "stream",
     "text": [
      "Total sum of values in the dictionary: \n",
      "879\n"
     ]
    }
   ],
   "source": [
    "# 4. Write a Python program to sum all the numeric items in a dictionary.\n",
    "\n",
    "d={'A':100,'B':540,'C':239}\n",
    "print(\"Total sum of values in the dictionary: \")\n",
    "print(sum(d.values()))"
   ]
  },
  {
   "cell_type": "code",
   "execution_count": 48,
   "id": "94404214",
   "metadata": {},
   "outputs": [
    {
     "name": "stdout",
     "output_type": "stream",
     "text": [
      "Duplicate values:  [5, 5, 23]\n",
      "Unique Values:  [5, 23, 4, 2, 90]\n"
     ]
    }
   ],
   "source": [
    "# 5. Write a program to identify duplicate values from list.\n",
    "\n",
    "list = [5, 23, 4, 5, 2, 5, 23, 90] \n",
    "duplicate_list = []\n",
    "unique = []\n",
    "for i in list:\n",
    "    if i in unique:\n",
    "        duplicate_list.append(i)\n",
    "    else:\n",
    "        unique.append(i)\n",
    "print(\"Duplicate values: \", duplicate_list)\n",
    "print(\"Unique Values: \", unique) "
   ]
  },
  {
   "cell_type": "code",
   "execution_count": 51,
   "id": "ab35f08e",
   "metadata": {},
   "outputs": [
    {
     "name": "stdout",
     "output_type": "stream",
     "text": [
      "Enter key: a\n",
      "Key is present\n"
     ]
    }
   ],
   "source": [
    "# 6. Write a Python script to check if a given key already exists in a dictionary\n",
    "\n",
    "d = {'a': 1, 'b': 2}\n",
    "given_key = input(\"Enter key: \")\n",
    "if given_key in d:\n",
    "    print(\"Key is present\")\n",
    "else:\n",
    "    print(\"key is not present\")"
   ]
  }
 ],
 "metadata": {
  "kernelspec": {
   "display_name": "Python 3",
   "language": "python",
   "name": "python3"
  },
  "language_info": {
   "codemirror_mode": {
    "name": "ipython",
    "version": 3
   },
   "file_extension": ".py",
   "mimetype": "text/x-python",
   "name": "python",
   "nbconvert_exporter": "python",
   "pygments_lexer": "ipython3",
   "version": "3.8.8"
  }
 },
 "nbformat": 4,
 "nbformat_minor": 5
}
