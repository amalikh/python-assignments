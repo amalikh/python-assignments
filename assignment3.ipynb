{
 "cells": [
  {
   "cell_type": "code",
   "execution_count": 1,
   "id": "38afc042",
   "metadata": {
    "scrolled": false
   },
   "outputs": [
    {
     "name": "stdout",
     "output_type": "stream",
     "text": [
      "Twinkle, twinkle, little star, \n",
      " \t How I wonder what you are!\n",
      "\t\t Up above the world so high, \n",
      "\t\t Like a diamond in the sky. \n",
      " Twinkle, twinkle, little star, \n",
      "\t How I wonder what you are\n"
     ]
    }
   ],
   "source": [
    "# 1. Write a Python program to print the following string in a specific format (see the output).\n",
    "print(\"Twinkle, twinkle, little star, \\n \\t How I wonder what you are!\\n\\t\\t Up above the world so high, \\n\\t\\t Like a diamond in the sky. \\n Twinkle, twinkle, little star, \\n\\t How I wonder what you are\")"
   ]
  },
  {
   "cell_type": "code",
   "execution_count": 31,
   "id": "bf0685da",
   "metadata": {},
   "outputs": [
    {
     "name": "stdout",
     "output_type": "stream",
     "text": [
      "python --version ==  3.8.8 (default, Apr 13 2021, 15:08:03) [MSC v.1916 64 bit (AMD64)]\n"
     ]
    }
   ],
   "source": [
    "# 2. Write a Python program to get the Python version you are using\n",
    "import sys\n",
    "print(\"python --version == \", sys.version)"
   ]
  },
  {
   "cell_type": "code",
   "execution_count": 17,
   "id": "b649f8c2",
   "metadata": {},
   "outputs": [
    {
     "name": "stdout",
     "output_type": "stream",
     "text": [
      "Current date & time = 2021-10-23 00:10:06.750382\n"
     ]
    }
   ],
   "source": [
    "# 3. Write a Python program to display the current date and time.\n",
    "import datetime\n",
    "i = datetime.datetime.now()\n",
    "print (\"Current date & time = %s\" %i)"
   ]
  },
  {
   "cell_type": "code",
   "execution_count": 9,
   "id": "601e6e5a",
   "metadata": {},
   "outputs": [
    {
     "name": "stdout",
     "output_type": "stream",
     "text": [
      "Enter radius of a circle: 4\n",
      "Area of a circle is:  50.272\n"
     ]
    }
   ],
   "source": [
    "# 4. Write a Python program which accepts the radius of a circle from the user and compute the area.\n",
    "radius = int(input(\"Enter radius of a circle: \"))\n",
    "area = 3.142 * radius**2\n",
    "print(\"Area of a circle is: \", area)"
   ]
  },
  {
   "cell_type": "code",
   "execution_count": 29,
   "id": "b94e6440",
   "metadata": {},
   "outputs": [
    {
     "name": "stdout",
     "output_type": "stream",
     "text": [
      "K I L A M   L O M N A\n"
     ]
    }
   ],
   "source": [
    "# 5. Write a Python program which accepts the user's first and last name and print them in reverse order with a space between them.\n",
    "name = list(\"ANMOL MALIK\")\n",
    "name.reverse()\n",
    "print(' '.join(name))"
   ]
  },
  {
   "cell_type": "code",
   "execution_count": 64,
   "id": "83dc1f69",
   "metadata": {},
   "outputs": [
    {
     "name": "stdout",
     "output_type": "stream",
     "text": [
      "Enter 1st number: 2\n",
      "Enter 2nd number: 2\n",
      "Adding num1 and num2:  4\n"
     ]
    }
   ],
   "source": [
    "# 6. Write a python program which takes two inputs from user and print them addition\n",
    "num1 = int(input(\"Enter 1st number: \"))\n",
    "num2 = int(input(\"Enter 2nd number: \"))\n",
    "add = num1 + num2\n",
    "print(\"Adding num1 and num2: \", add)"
   ]
  },
  {
   "cell_type": "code",
   "execution_count": 22,
   "id": "f63004aa",
   "metadata": {},
   "outputs": [
    {
     "name": "stdout",
     "output_type": "stream",
     "text": [
      "Enter 1st subject marks: 23\n",
      "Enter 2nd subject marks: 32\n",
      "Enter 3rd subject marks: 23\n",
      "Enter 4th subject marks: 22\n",
      "Enter 5th subject marks: 2\n",
      "FAIL :( \n"
     ]
    }
   ],
   "source": [
    "# 7. Write a program which takes 5 inputs from user for different subject’s marks, total it and generate mark sheet using grades ?\n",
    "sub1 = int(input(\"Enter 1st subject marks: \"))\n",
    "sub2 = int(input(\"Enter 2nd subject marks: \"))\n",
    "sub3 = int(input(\"Enter 3rd subject marks: \"))\n",
    "sub4 = int(input(\"Enter 4th subject marks: \"))\n",
    "sub5 = int(input(\"Enter 5th subject marks: \"))\n",
    "obtainedMarks = sub1+sub2+sub3+sub4+sub5\n",
    "total = 500\n",
    "per = (obtainedMarks/total)*100\n",
    "if per >= 80:\n",
    "    print(\"A+ Grade\")\n",
    "elif per >=70 and per <= 79:\n",
    "    print(\"A Grade\")\n",
    "elif per >=60 and per <= 69:\n",
    "    print(\"B Grade\")\n",
    "elif per >=50 and per <= 59:\n",
    "    print(\"C Grade\")\n",
    "elif per >=40 and per <= 49:\n",
    "    print(\"D Grade\")\n",
    "else:\n",
    "    print(\"FAIL :( \")"
   ]
  },
  {
   "cell_type": "code",
   "execution_count": 53,
   "id": "de2a5836",
   "metadata": {},
   "outputs": [
    {
     "name": "stdout",
     "output_type": "stream",
     "text": [
      "Enter a number: 3\n",
      "3 is an odd number\n"
     ]
    }
   ],
   "source": [
    "# 8. Write a program which take input from user and identify that the given number is even or odd?\n",
    "num = int(input(\"Enter a number: \"))\n",
    "\n",
    "if num%2 == 0:\n",
    "    print(str(num) + \" is an even number\")\n",
    "else:\n",
    "    print(str(num) + \" is an odd number\")\n"
   ]
  },
  {
   "cell_type": "code",
   "execution_count": 34,
   "id": "0e19f514",
   "metadata": {},
   "outputs": [
    {
     "name": "stdout",
     "output_type": "stream",
     "text": [
      "Length of list is: 3\n"
     ]
    }
   ],
   "source": [
    "# 9. Write a program which print the length of the list?\n",
    "list = [\"apple\", \"banana\", \"cherry\"]\n",
    "length = len(list)\n",
    "print(\"Length of list is: \" + str(length))"
   ]
  },
  {
   "cell_type": "code",
   "execution_count": 63,
   "id": "fb04ff09",
   "metadata": {},
   "outputs": [
    {
     "name": "stdout",
     "output_type": "stream",
     "text": [
      "Sum of all elements in given list:  74\n"
     ]
    }
   ],
   "source": [
    "# 10.Write a Python program to sum all the numeric items in a list?\n",
    "list = [11, 5, 17, 18, 23]\n",
    "total = sum(list)\n",
    "print(\"Sum of all elements in given list: \", total)"
   ]
  },
  {
   "cell_type": "code",
   "execution_count": 62,
   "id": "1014bda9",
   "metadata": {},
   "outputs": [
    {
     "name": "stdout",
     "output_type": "stream",
     "text": [
      "1st method. Largest element is: 55\n",
      "2nd method. Largest element is: 55\n"
     ]
    }
   ],
   "source": [
    "# 11. Write a Python program to get the largest number from a numeric list.\n",
    "list = [10, 30, 8, 55, 9]\n",
    "list.sort()\n",
    "print(\"1st method. Largest element is:\", list[-1])\n",
    "print(\"2nd method. Largest element is:\", max(list))"
   ]
  },
  {
   "cell_type": "code",
   "execution_count": 11,
   "id": "9016becf",
   "metadata": {},
   "outputs": [
    {
     "name": "stdout",
     "output_type": "stream",
     "text": [
      "1\n",
      "1\n",
      "2\n",
      "3\n"
     ]
    }
   ],
   "source": [
    "# 12. Take a list, say for example this one:\n",
    "# a = [1, 1, 2, 3, 5, 8, 13, 21, 34, 55, 89]\n",
    "# Write a program that prints out all the elements of the list that are less than 5.\n",
    "a = [1, 1, 2, 3, 5, 8, 13, 21, 34, 55, 89]\n",
    "for item in a:\n",
    "  if item < 5:\n",
    "    print(item)"
   ]
  },
  {
   "cell_type": "code",
   "execution_count": null,
   "id": "4f94bf6b",
   "metadata": {},
   "outputs": [],
   "source": []
  }
 ],
 "metadata": {
  "kernelspec": {
   "display_name": "Python 3",
   "language": "python",
   "name": "python3"
  },
  "language_info": {
   "codemirror_mode": {
    "name": "ipython",
    "version": 3
   },
   "file_extension": ".py",
   "mimetype": "text/x-python",
   "name": "python",
   "nbconvert_exporter": "python",
   "pygments_lexer": "ipython3",
   "version": "3.8.8"
  }
 },
 "nbformat": 4,
 "nbformat_minor": 5
}
